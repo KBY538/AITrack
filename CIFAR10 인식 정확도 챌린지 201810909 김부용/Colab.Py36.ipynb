{
  "nbformat": 4,
  "nbformat_minor": 0,
  "metadata": {
    "colab": {
      "name": "CIFAR10 정확도 챌린지 코드.ipynb",
      "provenance": [],
      "collapsed_sections": []
    },
    "kernelspec": {
      "name": "python3",
      "display_name": "Python 3"
    },
    "language_info": {
      "name": "python"
    },
    "accelerator": "GPU",
    "widgets": {
      "application/vnd.jupyter.widget-state+json": {
        "e7fba22b1601469289cccee5eb4c74d7": {
          "model_module": "@jupyter-widgets/controls",
          "model_name": "BoxModel",
          "state": {
            "_view_name": "BoxView",
            "_dom_classes": [],
            "_model_name": "BoxModel",
            "_view_module": "@jupyter-widgets/controls",
            "_model_module_version": "1.5.0",
            "_view_count": null,
            "_view_module_version": "1.5.0",
            "box_style": "",
            "layout": "IPY_MODEL_10bdffbe095d4dc6b4b322f6a7ce0a8c",
            "_model_module": "@jupyter-widgets/controls",
            "children": [
              "IPY_MODEL_bc2225b48bbf4049ae69b5826fd843cd",
              "IPY_MODEL_0991af7dc3b1424295f30b91dc5fdbf0",
              "IPY_MODEL_1d7ccf257a0b4701a1a7f9af7a48b9bf"
            ]
          }
        },
        "10bdffbe095d4dc6b4b322f6a7ce0a8c": {
          "model_module": "@jupyter-widgets/base",
          "model_name": "LayoutModel",
          "state": {
            "_view_name": "LayoutView",
            "grid_template_rows": null,
            "right": null,
            "justify_content": "flex-start",
            "_view_module": "@jupyter-widgets/base",
            "overflow": null,
            "_model_module_version": "1.2.0",
            "_view_count": null,
            "flex_flow": "row",
            "width": null,
            "min_width": null,
            "border": null,
            "align_items": null,
            "bottom": null,
            "_model_module": "@jupyter-widgets/base",
            "top": null,
            "grid_column": null,
            "overflow_y": null,
            "overflow_x": null,
            "grid_auto_flow": null,
            "grid_area": null,
            "grid_template_columns": null,
            "flex": null,
            "_model_name": "LayoutModel",
            "justify_items": null,
            "grid_row": null,
            "max_height": null,
            "align_content": null,
            "visibility": null,
            "align_self": null,
            "height": null,
            "min_height": null,
            "padding": null,
            "grid_auto_rows": null,
            "grid_gap": null,
            "max_width": null,
            "order": null,
            "_view_module_version": "1.2.0",
            "grid_template_areas": null,
            "object_position": null,
            "object_fit": null,
            "grid_auto_columns": null,
            "margin": null,
            "display": "flex",
            "left": null
          }
        },
        "bc2225b48bbf4049ae69b5826fd843cd": {
          "model_module": "@jupyter-widgets/controls",
          "model_name": "IntProgressModel",
          "state": {
            "_view_name": "ProgressView",
            "style": "IPY_MODEL_bc3b145ea70443c8bf63c451b0d35e14",
            "_dom_classes": [],
            "description": "epoch:",
            "_model_name": "IntProgressModel",
            "bar_style": "",
            "max": 30,
            "_view_module": "@jupyter-widgets/controls",
            "_model_module_version": "1.5.0",
            "value": 0,
            "_view_count": null,
            "_view_module_version": "1.5.0",
            "orientation": "horizontal",
            "min": 0,
            "description_tooltip": null,
            "_model_module": "@jupyter-widgets/controls",
            "layout": "IPY_MODEL_d3c4d22e6f024e0e88b5c38f68312bc7"
          }
        },
        "0991af7dc3b1424295f30b91dc5fdbf0": {
          "model_module": "@jupyter-widgets/controls",
          "model_name": "LabelModel",
          "state": {
            "_view_name": "LabelView",
            "style": "IPY_MODEL_5c347e94d3b04b31992648cf1e7f4ff5",
            "_dom_classes": [],
            "description": "",
            "_model_name": "LabelModel",
            "placeholder": "​",
            "_view_module": "@jupyter-widgets/controls",
            "_model_module_version": "1.5.0",
            "value": "0",
            "_view_count": null,
            "_view_module_version": "1.5.0",
            "description_tooltip": null,
            "_model_module": "@jupyter-widgets/controls",
            "layout": "IPY_MODEL_ba4932ad3f1a430fa4322f22d7d64bd8"
          }
        },
        "1d7ccf257a0b4701a1a7f9af7a48b9bf": {
          "model_module": "@jupyter-widgets/controls",
          "model_name": "LabelModel",
          "state": {
            "_view_name": "LabelView",
            "style": "IPY_MODEL_94475fe1f45d43f7aa8291eb7829fee9",
            "_dom_classes": [],
            "description": "",
            "_model_name": "LabelModel",
            "placeholder": "​",
            "_view_module": "@jupyter-widgets/controls",
            "_model_module_version": "1.5.0",
            "value": ", batch: 92",
            "_view_count": null,
            "_view_module_version": "1.5.0",
            "description_tooltip": null,
            "_model_module": "@jupyter-widgets/controls",
            "layout": "IPY_MODEL_365bcab324d742ad9318910b155d5028"
          }
        },
        "bc3b145ea70443c8bf63c451b0d35e14": {
          "model_module": "@jupyter-widgets/controls",
          "model_name": "ProgressStyleModel",
          "state": {
            "_view_name": "StyleView",
            "_model_name": "ProgressStyleModel",
            "description_width": "",
            "_view_module": "@jupyter-widgets/base",
            "_model_module_version": "1.5.0",
            "_view_count": null,
            "_view_module_version": "1.2.0",
            "bar_color": null,
            "_model_module": "@jupyter-widgets/controls"
          }
        },
        "d3c4d22e6f024e0e88b5c38f68312bc7": {
          "model_module": "@jupyter-widgets/base",
          "model_name": "LayoutModel",
          "state": {
            "_view_name": "LayoutView",
            "grid_template_rows": null,
            "right": null,
            "justify_content": null,
            "_view_module": "@jupyter-widgets/base",
            "overflow": null,
            "_model_module_version": "1.2.0",
            "_view_count": null,
            "flex_flow": null,
            "width": null,
            "min_width": null,
            "border": null,
            "align_items": null,
            "bottom": null,
            "_model_module": "@jupyter-widgets/base",
            "top": null,
            "grid_column": null,
            "overflow_y": null,
            "overflow_x": null,
            "grid_auto_flow": null,
            "grid_area": null,
            "grid_template_columns": null,
            "flex": null,
            "_model_name": "LayoutModel",
            "justify_items": null,
            "grid_row": null,
            "max_height": null,
            "align_content": null,
            "visibility": null,
            "align_self": null,
            "height": null,
            "min_height": null,
            "padding": null,
            "grid_auto_rows": null,
            "grid_gap": null,
            "max_width": null,
            "order": null,
            "_view_module_version": "1.2.0",
            "grid_template_areas": null,
            "object_position": null,
            "object_fit": null,
            "grid_auto_columns": null,
            "margin": null,
            "display": null,
            "left": null
          }
        },
        "5c347e94d3b04b31992648cf1e7f4ff5": {
          "model_module": "@jupyter-widgets/controls",
          "model_name": "DescriptionStyleModel",
          "state": {
            "_view_name": "StyleView",
            "_model_name": "DescriptionStyleModel",
            "description_width": "",
            "_view_module": "@jupyter-widgets/base",
            "_model_module_version": "1.5.0",
            "_view_count": null,
            "_view_module_version": "1.2.0",
            "_model_module": "@jupyter-widgets/controls"
          }
        },
        "ba4932ad3f1a430fa4322f22d7d64bd8": {
          "model_module": "@jupyter-widgets/base",
          "model_name": "LayoutModel",
          "state": {
            "_view_name": "LayoutView",
            "grid_template_rows": null,
            "right": null,
            "justify_content": null,
            "_view_module": "@jupyter-widgets/base",
            "overflow": null,
            "_model_module_version": "1.2.0",
            "_view_count": null,
            "flex_flow": null,
            "width": null,
            "min_width": null,
            "border": null,
            "align_items": null,
            "bottom": null,
            "_model_module": "@jupyter-widgets/base",
            "top": null,
            "grid_column": null,
            "overflow_y": null,
            "overflow_x": null,
            "grid_auto_flow": null,
            "grid_area": null,
            "grid_template_columns": null,
            "flex": null,
            "_model_name": "LayoutModel",
            "justify_items": null,
            "grid_row": null,
            "max_height": null,
            "align_content": null,
            "visibility": null,
            "align_self": null,
            "height": null,
            "min_height": null,
            "padding": null,
            "grid_auto_rows": null,
            "grid_gap": null,
            "max_width": null,
            "order": null,
            "_view_module_version": "1.2.0",
            "grid_template_areas": null,
            "object_position": null,
            "object_fit": null,
            "grid_auto_columns": null,
            "margin": null,
            "display": null,
            "left": null
          }
        },
        "94475fe1f45d43f7aa8291eb7829fee9": {
          "model_module": "@jupyter-widgets/controls",
          "model_name": "DescriptionStyleModel",
          "state": {
            "_view_name": "StyleView",
            "_model_name": "DescriptionStyleModel",
            "description_width": "",
            "_view_module": "@jupyter-widgets/base",
            "_model_module_version": "1.5.0",
            "_view_count": null,
            "_view_module_version": "1.2.0",
            "_model_module": "@jupyter-widgets/controls"
          }
        },
        "365bcab324d742ad9318910b155d5028": {
          "model_module": "@jupyter-widgets/base",
          "model_name": "LayoutModel",
          "state": {
            "_view_name": "LayoutView",
            "grid_template_rows": null,
            "right": null,
            "justify_content": null,
            "_view_module": "@jupyter-widgets/base",
            "overflow": null,
            "_model_module_version": "1.2.0",
            "_view_count": null,
            "flex_flow": null,
            "width": null,
            "min_width": null,
            "border": null,
            "align_items": null,
            "bottom": null,
            "_model_module": "@jupyter-widgets/base",
            "top": null,
            "grid_column": null,
            "overflow_y": null,
            "overflow_x": null,
            "grid_auto_flow": null,
            "grid_area": null,
            "grid_template_columns": null,
            "flex": null,
            "_model_name": "LayoutModel",
            "justify_items": null,
            "grid_row": null,
            "max_height": null,
            "align_content": null,
            "visibility": null,
            "align_self": null,
            "height": null,
            "min_height": null,
            "padding": null,
            "grid_auto_rows": null,
            "grid_gap": null,
            "max_width": null,
            "order": null,
            "_view_module_version": "1.2.0",
            "grid_template_areas": null,
            "object_position": null,
            "object_fit": null,
            "grid_auto_columns": null,
            "margin": null,
            "display": null,
            "left": null
          }
        }
      }
    }
  },
  "cells": [
    {
      "cell_type": "code",
      "metadata": {
        "id": "1iarhPc52K3k",
        "colab": {
          "base_uri": "https://localhost:8080/"
        },
        "outputId": "861b7f4f-966c-41ff-c6e9-b710550b1118"
      },
      "source": [
        "from os import path\n",
        "from google.colab import drive\n",
        "\n",
        "notebooks_dir_name = 'Colab Notebooks'\n",
        "drive.mount('/content/gdrive')\n",
        "notebook_base_dir = path.join('./gdrive/My Drive/', notebooks_dir_name)\n",
        "if not path.exists(notebook_base_dir):\n",
        "  print('경로를 찾을 수 없음')"
      ],
      "execution_count": 10,
      "outputs": [
        {
          "output_type": "stream",
          "text": [
            "Drive already mounted at /content/gdrive; to attempt to forcibly remount, call drive.mount(\"/content/gdrive\", force_remount=True).\n"
          ],
          "name": "stdout"
        }
      ]
    },
    {
      "cell_type": "code",
      "metadata": {
        "id": "ovTv-_r3KRcN"
      },
      "source": [
        "import numpy as np\n",
        "import torch\n",
        "import torch.nn as nn\n",
        "import torch.optim as optim\n",
        "import torch.nn.init as init\n",
        "import torchvision.datasets as dset\n",
        "import torchvision.transforms as transforms\n",
        "from torch.utils.data import DataLoader\n",
        "from torch.autograd import Variable\n",
        "import ipywidgets as widgets\n",
        "from ipywidgets import Layout,Box\n",
        "from IPython.display import display\n",
        "\n",
        "batch_size = 64\n",
        "num_epoch = 30"
      ],
      "execution_count": 3,
      "outputs": []
    },
    {
      "cell_type": "markdown",
      "metadata": {
        "id": "fallen-apple"
      },
      "source": [
        "### CIFAR10 dataset 가져오기"
      ]
    },
    {
      "cell_type": "code",
      "metadata": {
        "colab": {
          "base_uri": "https://localhost:8080/"
        },
        "id": "successful-kinase",
        "outputId": "4cdd93a8-4785-4580-f663-16e6ae26c306"
      },
      "source": [
        "# 변화x\n",
        "cifar_train0=dset.CIFAR10(\"CIFAR10/\", train=True,\n",
        "                         transform=transforms.Compose([\n",
        "                             transforms.ToTensor(),\n",
        "                             transforms.Normalize(mean=(0.5,0.5,0.5), std=(0.5,0.5,0.5)),\n",
        "                         ])\n",
        "                         , target_transform=None, download=True)\n",
        "\n",
        "# 랜덤 시점 변형\n",
        "cifar_train1=dset.CIFAR10(\"CIFAR10/\", train=True,\n",
        "                         transform=transforms.Compose([\n",
        "                             transforms.RandomPerspective(),\n",
        "                             transforms.ToTensor(),\n",
        "                             transforms.Normalize(mean=(0.5,0.5,0.5), std=(0.5,0.5,0.5)),\n",
        "                         ])\n",
        "                         , target_transform=None, download=True)\n",
        "\n",
        "# 랜덤 시점 변형 2\n",
        "cifar_train2=dset.CIFAR10(\"CIFAR10/\", train=True,\n",
        "                         transform=transforms.Compose([\n",
        "                             transforms.RandomPerspective(),\n",
        "                             transforms.ToTensor(),\n",
        "                             transforms.Normalize(mean=(0.5,0.5,0.5), std=(0.5,0.5,0.5)),\n",
        "                         ])\n",
        "                         , target_transform=None, download=True)\n",
        "\n",
        "# 평행성보존 변형(10)+좌우반전\n",
        "cifar_train3=dset.CIFAR10(\"CIFAR10/\", train=True,\n",
        "                         transform=transforms.Compose([\n",
        "                             transforms.RandomHorizontalFlip(p=1),\n",
        "                             transforms.RandomAffine(10),\n",
        "                             transforms.ToTensor(),\n",
        "                             transforms.Normalize(mean=(0.5,0.5,0.5), std=(0.5,0.5,0.5)),\n",
        "                         ])\n",
        "                         , target_transform=None, download=True)\n",
        "\n",
        "# 평행성보존 변형(20)+좌우반전\n",
        "cifar_train4=dset.CIFAR10(\"CIFAR10/\", train=True,\n",
        "                         transform=transforms.Compose([\n",
        "                             transforms.RandomHorizontalFlip(p=1),\n",
        "                             transforms.RandomAffine(20),\n",
        "                             transforms.ToTensor(),\n",
        "                             transforms.Normalize(mean=(0.5,0.5,0.5), std=(0.5,0.5,0.5)),\n",
        "                         ])\n",
        "                         , target_transform=None, download=True)\n",
        "\n",
        "# 랜덤 시점 변형+좌우반전\n",
        "cifar_train5=dset.CIFAR10(\"CIFAR10/\", train=True,\n",
        "                         transform=transforms.Compose([\n",
        "                             transforms.RandomHorizontalFlip(p=1),\n",
        "                             transforms.RandomPerspective(),\n",
        "                             transforms.ToTensor(),\n",
        "                             transforms.Normalize(mean=(0.5,0.5,0.5), std=(0.5,0.5,0.5)),\n",
        "                         ])\n",
        "                         , target_transform=None, download=True)\n",
        "\n",
        "# 평행성보존 변형(20)\n",
        "cifar_train6=dset.CIFAR10(\"CIFAR10/\", train=True,\n",
        "                         transform=transforms.Compose([\n",
        "                             transforms.RandomAffine(20),\n",
        "                             transforms.ToTensor(),\n",
        "                             transforms.Normalize(mean=(0.5,0.5,0.5), std=(0.5,0.5,0.5)),\n",
        "                         ])\n",
        "                         , target_transform=None, download=True)\n",
        "\n",
        "# 평행성보존 변형(30)\n",
        "cifar_train7=dset.CIFAR10(\"CIFAR10/\", train=True,\n",
        "                         transform=transforms.Compose([\n",
        "                             transforms.RandomAffine(30),\n",
        "                             transforms.ToTensor(),\n",
        "                             transforms.Normalize(mean=(0.5,0.5,0.5), std=(0.5,0.5,0.5)),\n",
        "                         ])\n",
        "                         , target_transform=None, download=True)\n",
        "\n",
        "# 중앙 확대\n",
        "cifar_train8=dset.CIFAR10(\"CIFAR10/\", train=True,\n",
        "                         transform=transforms.Compose([\n",
        "                             transforms.Resize(36),\n",
        "                             transforms.CenterCrop(32),\n",
        "                             transforms.ToTensor(),\n",
        "                             transforms.Normalize(mean=(0.5,0.5,0.5), std=(0.5,0.5,0.5)),\n",
        "                         ])\n",
        "                         , target_transform=None, download=True)\n",
        "\n",
        "# 평행성보존 변형(10)\n",
        "cifar_train9=dset.CIFAR10(\"CIFAR10/\", train=True,\n",
        "                         transform=transforms.Compose([\n",
        "                             transforms.RandomAffine(10),\n",
        "                             transforms.ToTensor(),\n",
        "                             transforms.Normalize(mean=(0.5,0.5,0.5), std=(0.5,0.5,0.5)),\n",
        "                         ])\n",
        "                         , target_transform=None, download=True)\n",
        "\n",
        "# 평행성보존 변형(30)+좌우반전\n",
        "cifar_train10=dset.CIFAR10(\"CIFAR10/\", train=True,\n",
        "                         transform=transforms.Compose([\n",
        "                             transforms.RandomHorizontalFlip(p=1),\n",
        "                             transforms.RandomAffine(30),\n",
        "                             transforms.ToTensor(),\n",
        "                             transforms.Normalize(mean=(0.5,0.5,0.5), std=(0.5,0.5,0.5)),\n",
        "                         ])\n",
        "                         , target_transform=None, download=True)\n",
        "\n",
        "# 랜덤 시점 변형2+좌우반전\n",
        "cifar_train11=dset.CIFAR10(\"CIFAR10/\", train=True,\n",
        "                         transform=transforms.Compose([\n",
        "                             transforms.RandomHorizontalFlip(p=1),\n",
        "                             transforms.RandomPerspective(),\n",
        "                             transforms.ToTensor(),\n",
        "                             transforms.Normalize(mean=(0.5,0.5,0.5), std=(0.5,0.5,0.5)),\n",
        "                         ])\n",
        "                         , target_transform=None, download=True)\n",
        "\n",
        "# 좌우반전\n",
        "cifar_train12=dset.CIFAR10(\"CIFAR10/\", train=True,\n",
        "                         transform=transforms.Compose([\n",
        "                             transforms.RandomHorizontalFlip(p=1),\n",
        "                             transforms.ToTensor(),\n",
        "                             transforms.Normalize(mean=(0.5,0.5,0.5), std=(0.5,0.5,0.5)),\n",
        "                         ])\n",
        "                         , target_transform=None, download=True)\n",
        "\n",
        "cifar_trains = [cifar_train1,\n",
        "                cifar_train2,\n",
        "                cifar_train3,\n",
        "                cifar_train4,\n",
        "                cifar_train0,\n",
        "                cifar_train5,\n",
        "                cifar_train6,\n",
        "                cifar_train7,\n",
        "                cifar_train8,\n",
        "                cifar_train9,\n",
        "                cifar_train10,\n",
        "                cifar_train11,\n",
        "                cifar_train12,\n",
        "                cifar_train0]"
      ],
      "execution_count": 5,
      "outputs": [
        {
          "output_type": "stream",
          "text": [
            "Files already downloaded and verified\n",
            "Files already downloaded and verified\n",
            "Files already downloaded and verified\n",
            "Files already downloaded and verified\n",
            "Files already downloaded and verified\n",
            "Files already downloaded and verified\n",
            "Files already downloaded and verified\n",
            "Files already downloaded and verified\n",
            "Files already downloaded and verified\n",
            "Files already downloaded and verified\n",
            "Files already downloaded and verified\n",
            "Files already downloaded and verified\n",
            "Files already downloaded and verified\n"
          ],
          "name": "stdout"
        }
      ]
    },
    {
      "cell_type": "code",
      "metadata": {
        "id": "given-burst"
      },
      "source": [
        "train_loaders = []\n",
        "for cifar_train in cifar_trains:\n",
        "  train_loaders.append(torch.utils.data.DataLoader(list(cifar_train)[:], batch_size=batch_size, shuffle=True, num_workers=0, drop_last=True))"
      ],
      "execution_count": 6,
      "outputs": []
    },
    {
      "cell_type": "markdown",
      "metadata": {
        "id": "smart-spell"
      },
      "source": [
        "### 모델 선언"
      ]
    },
    {
      "cell_type": "code",
      "metadata": {
        "id": "-x47-uDoKfWL"
      },
      "source": [
        "class CNN(nn.Module):\n",
        "    def __init__(self):\n",
        "        super(CNN, self).__init__()\n",
        "        self.layer=nn.Sequential(\n",
        "            nn.Conv2d(3, 16, 3, padding=1),\n",
        "            nn.ELU(),\n",
        "            nn.Dropout2d(0.1),   # drop out\n",
        "            nn.BatchNorm2d(16),  # Batch normalization\n",
        "            nn.Conv2d(16, 32, 3, padding=1),\n",
        "            nn.ELU(),\n",
        "            nn.Dropout2d(0.2),   # drop out\n",
        "            nn.BatchNorm2d(32),  # Batch normalization\n",
        "            nn.MaxPool2d(2, 2),\n",
        "            nn.Conv2d(32, 64, 3, padding=1),\n",
        "            nn.LeakyReLU(),\n",
        "            nn.Dropout2d(0.3),   # drop out\n",
        "            nn.BatchNorm2d(64),  # Batch normalization\n",
        "            nn.MaxPool2d(2, 2)\n",
        "        )\n",
        "        self.fc_layer=nn.Sequential(\n",
        "            nn.Linear(64*8*8, 100),\n",
        "            nn.ELU(),\n",
        "            nn.Dropout2d(0.5),   # drop out\n",
        "            nn.BatchNorm1d(100), # Batch normalization\n",
        "            nn.Linear(100, 10)\n",
        "        )    \n",
        "        \n",
        "    def forward(self, x):\n",
        "        out=self.layer(x)\n",
        "        out=out.view(batch_size, -1)\n",
        "        out=self.fc_layer(out)\n",
        "        \n",
        "        return out\n",
        "\n",
        "model=CNN().cuda()"
      ],
      "execution_count": 7,
      "outputs": []
    },
    {
      "cell_type": "markdown",
      "metadata": {
        "id": "uzo92I9eMVId"
      },
      "source": [
        "### 학습"
      ]
    },
    {
      "cell_type": "code",
      "metadata": {
        "id": "kWN2VYnjLFhb"
      },
      "source": [
        "loss_func=nn.CrossEntropyLoss()\n",
        "optimizer=torch.optim.Adam(model.parameters(), lr=0.002) # Adam optimizer"
      ],
      "execution_count": 8,
      "outputs": []
    },
    {
      "cell_type": "code",
      "metadata": {
        "id": "NrriIbbzcigw"
      },
      "source": [
        "n= 10 # 불러올 모델 번호\n",
        "model = torch.load(notebook_base_dir+'/nets/save'+str(n)+'.pkl')"
      ],
      "execution_count": 11,
      "outputs": []
    },
    {
      "cell_type": "code",
      "metadata": {
        "colab": {
          "base_uri": "https://localhost:8080/",
          "height": 418,
          "referenced_widgets": [
            "e7fba22b1601469289cccee5eb4c74d7",
            "10bdffbe095d4dc6b4b322f6a7ce0a8c",
            "bc2225b48bbf4049ae69b5826fd843cd",
            "0991af7dc3b1424295f30b91dc5fdbf0",
            "1d7ccf257a0b4701a1a7f9af7a48b9bf",
            "bc3b145ea70443c8bf63c451b0d35e14",
            "d3c4d22e6f024e0e88b5c38f68312bc7",
            "5c347e94d3b04b31992648cf1e7f4ff5",
            "ba4932ad3f1a430fa4322f22d7d64bd8",
            "94475fe1f45d43f7aa8291eb7829fee9",
            "365bcab324d742ad9318910b155d5028"
          ]
        },
        "id": "uNWRRMYBLKJd",
        "outputId": "44962f8c-48a6-4cd3-cbbb-30a35a2c11c8"
      },
      "source": [
        "c = n+1 # 저장 파일 번호\n",
        "\n",
        "bar = widgets.IntProgress(min=0, max=num_epoch,description='epoch:') # epoch 시각화\n",
        "value1 = 0\n",
        "label = widgets.Label(value=str(value1), disabled=True) # epoch 시각화\n",
        "value2 = 0\n",
        "label2 = widgets.Label(value=str(value2), disabled=True) # batch index 시각화\n",
        "\n",
        "visualize = Box([bar, label, label2], layout = Layout(display='flex', flex_flow='row', justify_content='flex-start'))\n",
        "display(visualize)\n",
        "\n",
        "model.train()\n",
        "\n",
        "for i in range(num_epoch):\n",
        "    value2 = 0 # batch index\n",
        "    for train_loader in train_loaders:\n",
        "      for j, [image, label] in enumerate(train_loader):\n",
        "        value2 += 1\n",
        "        label2.value = ', batch: '+str(value2)\n",
        "        x=Variable(image)\n",
        "        y_=Variable(label)\n",
        "        \n",
        "        optimizer.zero_grad()\n",
        "        output=model.forward(x)\n",
        "        loss=loss_func(output,y_)\n",
        "        loss.backward()\n",
        "        optimizer.step()\n",
        "    \n",
        "    netname = notebook_base_dir+'/nets/save'+str(c)+'.pkl'    \n",
        "    torch.save(model, netname, )\n",
        "    c+=1 # 저장 번호\n",
        "    \n",
        "    bar.value += 1 # epoch\n",
        "    value1 += 1 # epoch\n",
        "    "
      ],
      "execution_count": 12,
      "outputs": [
        {
          "output_type": "display_data",
          "data": {
            "application/vnd.jupyter.widget-view+json": {
              "model_id": "e7fba22b1601469289cccee5eb4c74d7",
              "version_minor": 0,
              "version_major": 2
            },
            "text/plain": [
              "Box(children=(IntProgress(value=0, description='epoch:', max=30), Label(value='0'), Label(value='0')), layout=…"
            ]
          },
          "metadata": {
            "tags": []
          }
        },
        {
          "output_type": "error",
          "ename": "KeyboardInterrupt",
          "evalue": "ignored",
          "traceback": [
            "\u001b[0;31m---------------------------------------------------------------------------\u001b[0m",
            "\u001b[0;31mKeyboardInterrupt\u001b[0m                         Traceback (most recent call last)",
            "\u001b[0;32m<ipython-input-12-d80ab5bf6802>\u001b[0m in \u001b[0;36m<module>\u001b[0;34m()\u001b[0m\n\u001b[1;32m     22\u001b[0m \u001b[0;34m\u001b[0m\u001b[0m\n\u001b[1;32m     23\u001b[0m         \u001b[0moptimizer\u001b[0m\u001b[0;34m.\u001b[0m\u001b[0mzero_grad\u001b[0m\u001b[0;34m(\u001b[0m\u001b[0;34m)\u001b[0m\u001b[0;34m\u001b[0m\u001b[0;34m\u001b[0m\u001b[0m\n\u001b[0;32m---> 24\u001b[0;31m         \u001b[0moutput\u001b[0m\u001b[0;34m=\u001b[0m\u001b[0mmodel\u001b[0m\u001b[0;34m.\u001b[0m\u001b[0mforward\u001b[0m\u001b[0;34m(\u001b[0m\u001b[0mx\u001b[0m\u001b[0;34m)\u001b[0m\u001b[0;34m\u001b[0m\u001b[0;34m\u001b[0m\u001b[0m\n\u001b[0m\u001b[1;32m     25\u001b[0m         \u001b[0mloss\u001b[0m\u001b[0;34m=\u001b[0m\u001b[0mloss_func\u001b[0m\u001b[0;34m(\u001b[0m\u001b[0moutput\u001b[0m\u001b[0;34m,\u001b[0m\u001b[0my_\u001b[0m\u001b[0;34m)\u001b[0m\u001b[0;34m\u001b[0m\u001b[0;34m\u001b[0m\u001b[0m\n\u001b[1;32m     26\u001b[0m         \u001b[0mloss\u001b[0m\u001b[0;34m.\u001b[0m\u001b[0mbackward\u001b[0m\u001b[0;34m(\u001b[0m\u001b[0;34m)\u001b[0m\u001b[0;34m\u001b[0m\u001b[0;34m\u001b[0m\u001b[0m\n",
            "\u001b[0;32m<ipython-input-7-ce44abe70f85>\u001b[0m in \u001b[0;36mforward\u001b[0;34m(self, x)\u001b[0m\n\u001b[1;32m     27\u001b[0m \u001b[0;34m\u001b[0m\u001b[0m\n\u001b[1;32m     28\u001b[0m     \u001b[0;32mdef\u001b[0m \u001b[0mforward\u001b[0m\u001b[0;34m(\u001b[0m\u001b[0mself\u001b[0m\u001b[0;34m,\u001b[0m \u001b[0mx\u001b[0m\u001b[0;34m)\u001b[0m\u001b[0;34m:\u001b[0m\u001b[0;34m\u001b[0m\u001b[0;34m\u001b[0m\u001b[0m\n\u001b[0;32m---> 29\u001b[0;31m         \u001b[0mout\u001b[0m\u001b[0;34m=\u001b[0m\u001b[0mself\u001b[0m\u001b[0;34m.\u001b[0m\u001b[0mlayer\u001b[0m\u001b[0;34m(\u001b[0m\u001b[0mx\u001b[0m\u001b[0;34m)\u001b[0m\u001b[0;34m\u001b[0m\u001b[0;34m\u001b[0m\u001b[0m\n\u001b[0m\u001b[1;32m     30\u001b[0m         \u001b[0mout\u001b[0m\u001b[0;34m=\u001b[0m\u001b[0mout\u001b[0m\u001b[0;34m.\u001b[0m\u001b[0mview\u001b[0m\u001b[0;34m(\u001b[0m\u001b[0mbatch_size\u001b[0m\u001b[0;34m,\u001b[0m \u001b[0;34m-\u001b[0m\u001b[0;36m1\u001b[0m\u001b[0;34m)\u001b[0m\u001b[0;34m\u001b[0m\u001b[0;34m\u001b[0m\u001b[0m\n\u001b[1;32m     31\u001b[0m         \u001b[0mout\u001b[0m\u001b[0;34m=\u001b[0m\u001b[0mself\u001b[0m\u001b[0;34m.\u001b[0m\u001b[0mfc_layer\u001b[0m\u001b[0;34m(\u001b[0m\u001b[0mout\u001b[0m\u001b[0;34m)\u001b[0m\u001b[0;34m\u001b[0m\u001b[0;34m\u001b[0m\u001b[0m\n",
            "\u001b[0;32m/usr/local/lib/python3.7/dist-packages/torch/nn/modules/module.py\u001b[0m in \u001b[0;36m_call_impl\u001b[0;34m(self, *input, **kwargs)\u001b[0m\n\u001b[1;32m    887\u001b[0m             \u001b[0mresult\u001b[0m \u001b[0;34m=\u001b[0m \u001b[0mself\u001b[0m\u001b[0;34m.\u001b[0m\u001b[0m_slow_forward\u001b[0m\u001b[0;34m(\u001b[0m\u001b[0;34m*\u001b[0m\u001b[0minput\u001b[0m\u001b[0;34m,\u001b[0m \u001b[0;34m**\u001b[0m\u001b[0mkwargs\u001b[0m\u001b[0;34m)\u001b[0m\u001b[0;34m\u001b[0m\u001b[0;34m\u001b[0m\u001b[0m\n\u001b[1;32m    888\u001b[0m         \u001b[0;32melse\u001b[0m\u001b[0;34m:\u001b[0m\u001b[0;34m\u001b[0m\u001b[0;34m\u001b[0m\u001b[0m\n\u001b[0;32m--> 889\u001b[0;31m             \u001b[0mresult\u001b[0m \u001b[0;34m=\u001b[0m \u001b[0mself\u001b[0m\u001b[0;34m.\u001b[0m\u001b[0mforward\u001b[0m\u001b[0;34m(\u001b[0m\u001b[0;34m*\u001b[0m\u001b[0minput\u001b[0m\u001b[0;34m,\u001b[0m \u001b[0;34m**\u001b[0m\u001b[0mkwargs\u001b[0m\u001b[0;34m)\u001b[0m\u001b[0;34m\u001b[0m\u001b[0;34m\u001b[0m\u001b[0m\n\u001b[0m\u001b[1;32m    890\u001b[0m         for hook in itertools.chain(\n\u001b[1;32m    891\u001b[0m                 \u001b[0m_global_forward_hooks\u001b[0m\u001b[0;34m.\u001b[0m\u001b[0mvalues\u001b[0m\u001b[0;34m(\u001b[0m\u001b[0;34m)\u001b[0m\u001b[0;34m,\u001b[0m\u001b[0;34m\u001b[0m\u001b[0;34m\u001b[0m\u001b[0m\n",
            "\u001b[0;32m/usr/local/lib/python3.7/dist-packages/torch/nn/modules/container.py\u001b[0m in \u001b[0;36mforward\u001b[0;34m(self, input)\u001b[0m\n\u001b[1;32m    117\u001b[0m     \u001b[0;32mdef\u001b[0m \u001b[0mforward\u001b[0m\u001b[0;34m(\u001b[0m\u001b[0mself\u001b[0m\u001b[0;34m,\u001b[0m \u001b[0minput\u001b[0m\u001b[0;34m)\u001b[0m\u001b[0;34m:\u001b[0m\u001b[0;34m\u001b[0m\u001b[0;34m\u001b[0m\u001b[0m\n\u001b[1;32m    118\u001b[0m         \u001b[0;32mfor\u001b[0m \u001b[0mmodule\u001b[0m \u001b[0;32min\u001b[0m \u001b[0mself\u001b[0m\u001b[0;34m:\u001b[0m\u001b[0;34m\u001b[0m\u001b[0;34m\u001b[0m\u001b[0m\n\u001b[0;32m--> 119\u001b[0;31m             \u001b[0minput\u001b[0m \u001b[0;34m=\u001b[0m \u001b[0mmodule\u001b[0m\u001b[0;34m(\u001b[0m\u001b[0minput\u001b[0m\u001b[0;34m)\u001b[0m\u001b[0;34m\u001b[0m\u001b[0;34m\u001b[0m\u001b[0m\n\u001b[0m\u001b[1;32m    120\u001b[0m         \u001b[0;32mreturn\u001b[0m \u001b[0minput\u001b[0m\u001b[0;34m\u001b[0m\u001b[0;34m\u001b[0m\u001b[0m\n\u001b[1;32m    121\u001b[0m \u001b[0;34m\u001b[0m\u001b[0m\n",
            "\u001b[0;32m/usr/local/lib/python3.7/dist-packages/torch/nn/modules/module.py\u001b[0m in \u001b[0;36m_call_impl\u001b[0;34m(self, *input, **kwargs)\u001b[0m\n\u001b[1;32m    887\u001b[0m             \u001b[0mresult\u001b[0m \u001b[0;34m=\u001b[0m \u001b[0mself\u001b[0m\u001b[0;34m.\u001b[0m\u001b[0m_slow_forward\u001b[0m\u001b[0;34m(\u001b[0m\u001b[0;34m*\u001b[0m\u001b[0minput\u001b[0m\u001b[0;34m,\u001b[0m \u001b[0;34m**\u001b[0m\u001b[0mkwargs\u001b[0m\u001b[0;34m)\u001b[0m\u001b[0;34m\u001b[0m\u001b[0;34m\u001b[0m\u001b[0m\n\u001b[1;32m    888\u001b[0m         \u001b[0;32melse\u001b[0m\u001b[0;34m:\u001b[0m\u001b[0;34m\u001b[0m\u001b[0;34m\u001b[0m\u001b[0m\n\u001b[0;32m--> 889\u001b[0;31m             \u001b[0mresult\u001b[0m \u001b[0;34m=\u001b[0m \u001b[0mself\u001b[0m\u001b[0;34m.\u001b[0m\u001b[0mforward\u001b[0m\u001b[0;34m(\u001b[0m\u001b[0;34m*\u001b[0m\u001b[0minput\u001b[0m\u001b[0;34m,\u001b[0m \u001b[0;34m**\u001b[0m\u001b[0mkwargs\u001b[0m\u001b[0;34m)\u001b[0m\u001b[0;34m\u001b[0m\u001b[0;34m\u001b[0m\u001b[0m\n\u001b[0m\u001b[1;32m    890\u001b[0m         for hook in itertools.chain(\n\u001b[1;32m    891\u001b[0m                 \u001b[0m_global_forward_hooks\u001b[0m\u001b[0;34m.\u001b[0m\u001b[0mvalues\u001b[0m\u001b[0;34m(\u001b[0m\u001b[0;34m)\u001b[0m\u001b[0;34m,\u001b[0m\u001b[0;34m\u001b[0m\u001b[0;34m\u001b[0m\u001b[0m\n",
            "\u001b[0;32m/usr/local/lib/python3.7/dist-packages/torch/nn/modules/conv.py\u001b[0m in \u001b[0;36mforward\u001b[0;34m(self, input)\u001b[0m\n\u001b[1;32m    397\u001b[0m \u001b[0;34m\u001b[0m\u001b[0m\n\u001b[1;32m    398\u001b[0m     \u001b[0;32mdef\u001b[0m \u001b[0mforward\u001b[0m\u001b[0;34m(\u001b[0m\u001b[0mself\u001b[0m\u001b[0;34m,\u001b[0m \u001b[0minput\u001b[0m\u001b[0;34m:\u001b[0m \u001b[0mTensor\u001b[0m\u001b[0;34m)\u001b[0m \u001b[0;34m->\u001b[0m \u001b[0mTensor\u001b[0m\u001b[0;34m:\u001b[0m\u001b[0;34m\u001b[0m\u001b[0;34m\u001b[0m\u001b[0m\n\u001b[0;32m--> 399\u001b[0;31m         \u001b[0;32mreturn\u001b[0m \u001b[0mself\u001b[0m\u001b[0;34m.\u001b[0m\u001b[0m_conv_forward\u001b[0m\u001b[0;34m(\u001b[0m\u001b[0minput\u001b[0m\u001b[0;34m,\u001b[0m \u001b[0mself\u001b[0m\u001b[0;34m.\u001b[0m\u001b[0mweight\u001b[0m\u001b[0;34m,\u001b[0m \u001b[0mself\u001b[0m\u001b[0;34m.\u001b[0m\u001b[0mbias\u001b[0m\u001b[0;34m)\u001b[0m\u001b[0;34m\u001b[0m\u001b[0;34m\u001b[0m\u001b[0m\n\u001b[0m\u001b[1;32m    400\u001b[0m \u001b[0;34m\u001b[0m\u001b[0m\n\u001b[1;32m    401\u001b[0m \u001b[0;32mclass\u001b[0m \u001b[0mConv3d\u001b[0m\u001b[0;34m(\u001b[0m\u001b[0m_ConvNd\u001b[0m\u001b[0;34m)\u001b[0m\u001b[0;34m:\u001b[0m\u001b[0;34m\u001b[0m\u001b[0;34m\u001b[0m\u001b[0m\n",
            "\u001b[0;32m/usr/local/lib/python3.7/dist-packages/torch/nn/modules/conv.py\u001b[0m in \u001b[0;36m_conv_forward\u001b[0;34m(self, input, weight, bias)\u001b[0m\n\u001b[1;32m    394\u001b[0m                             _pair(0), self.dilation, self.groups)\n\u001b[1;32m    395\u001b[0m         return F.conv2d(input, weight, bias, self.stride,\n\u001b[0;32m--> 396\u001b[0;31m                         self.padding, self.dilation, self.groups)\n\u001b[0m\u001b[1;32m    397\u001b[0m \u001b[0;34m\u001b[0m\u001b[0m\n\u001b[1;32m    398\u001b[0m     \u001b[0;32mdef\u001b[0m \u001b[0mforward\u001b[0m\u001b[0;34m(\u001b[0m\u001b[0mself\u001b[0m\u001b[0;34m,\u001b[0m \u001b[0minput\u001b[0m\u001b[0;34m:\u001b[0m \u001b[0mTensor\u001b[0m\u001b[0;34m)\u001b[0m \u001b[0;34m->\u001b[0m \u001b[0mTensor\u001b[0m\u001b[0;34m:\u001b[0m\u001b[0;34m\u001b[0m\u001b[0;34m\u001b[0m\u001b[0m\n",
            "\u001b[0;31mKeyboardInterrupt\u001b[0m: "
          ]
        }
      ]
    },
    {
      "cell_type": "markdown",
      "metadata": {
        "id": "r1FrBfJcNPON"
      },
      "source": [
        "### 성능 평가"
      ]
    },
    {
      "cell_type": "code",
      "metadata": {
        "colab": {
          "base_uri": "https://localhost:8080/"
        },
        "id": "kNcAGIOHIvXR",
        "outputId": "dbcbc154-f1dc-4166-c35c-5e81482be203"
      },
      "source": [
        "cifar_test=dset.CIFAR10(\"CIFAR10/\", train=False,\n",
        "                        transform=transforms.Compose([\n",
        "                             transforms.ToTensor(),\n",
        "                             transforms.Normalize(mean=(0.5,0.5,0.5), std=(0.5,0.5,0.5)),\n",
        "                         ])\n",
        "                         , target_transform=None, download=True)\n",
        "\n",
        "test_loader=torch.utils.data.DataLoader(cifar_test, batch_size=batch_size, shuffle=False, num_workers=2, drop_last=True)\n",
        "\n",
        "# test data에 대한 성능\n",
        "def ComputeAccr(dloader, imodel):\n",
        "    correct = 0\n",
        "    total = 0\n",
        "    with torch.no_grad(): \n",
        "        for j, [imgs, labels] in enumerate(dloader): # batch_size 만큼\n",
        "            img = Variable(imgs) # x\n",
        "            label = Variable(labels)\n",
        "        \n",
        "            output = imodel.forward(img) # forward prop.\n",
        "            _, output_index = torch.max(output, 1)\n",
        "            \n",
        "            total += label.size(0) # 데이터 개수 label은 1024개로 이루어진 y값\n",
        "            correct += (output_index == label).sum().float()\n",
        "        print(\"Accuracy of Test Data: {}\".format(100*correct/total)) # 만 장에 대한 정확도 측정"
      ],
      "execution_count": 13,
      "outputs": [
        {
          "output_type": "stream",
          "text": [
            "Files already downloaded and verified\n"
          ],
          "name": "stdout"
        }
      ]
    },
    {
      "cell_type": "code",
      "metadata": {
        "colab": {
          "base_uri": "https://localhost:8080/"
        },
        "id": "UmN-g0c_JqqV",
        "outputId": "c8cd8376-d9dc-4fbb-80a6-44ff5e315659"
      },
      "source": [
        "model_path = notebook_base_dir+'/nets/'# 성능 평가할 모델의 경로로 바꿔주세요\n",
        "model_name = 'CIFAR10model.pkl'\n",
        "\n",
        "lnetname = model_path+model_name\n",
        "model = torch.load(lnetname)\n",
        "model.eval()\n",
        "print(ComputeAccr(test_loader, model))"
      ],
      "execution_count": 15,
      "outputs": [
        {
          "output_type": "stream",
          "text": [
            "Accuracy of Test Data: 76.39222717285156\n",
            "None\n"
          ],
          "name": "stdout"
        }
      ]
    }
  ]
}