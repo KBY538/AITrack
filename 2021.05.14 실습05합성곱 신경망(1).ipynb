{
 "cells": [
  {
   "cell_type": "markdown",
   "id": "79d2d227",
   "metadata": {},
   "source": [
    "# [실습05] 합성곱 신경망(1)\n",
    "\n",
    "## 201810909 컴퓨터과학과 김부용\n",
    "https://github.com/KBY538/AITrack"
   ]
  },
  {
   "cell_type": "markdown",
   "id": "8b246122",
   "metadata": {},
   "source": [
    "### 0. library import"
   ]
  },
  {
   "cell_type": "code",
   "execution_count": 1,
   "id": "73c9eda2",
   "metadata": {},
   "outputs": [],
   "source": [
    "import numpy as np\n",
    "import matplotlib.pyplot as plt\n",
    "%matplotlib inline\n",
    "\n",
    "import torch\n",
    "import torch.nn as nn # pytorch 제공, NN을 쉽게 구현할 수 있는 library\n",
    "import torch.optim as optim\n",
    "import torchvision.datasets as dset\n",
    "import torchvision.transforms as transforms\n",
    "from torch.utils.data import DataLoader\n",
    "from torch.autograd import Variable\n",
    "\n",
    "import ipywidgets as widgets\n",
    "from IPython.display import display"
   ]
  },
  {
   "cell_type": "markdown",
   "id": "94a6cfc8",
   "metadata": {},
   "source": [
    "### 1. MNIST train, test dataset 가져오기"
   ]
  },
  {
   "cell_type": "code",
   "execution_count": 2,
   "id": "15415a59",
   "metadata": {},
   "outputs": [],
   "source": [
    "# \"\": 현재 폴더에 MNIST 있음\n",
    "mnist_train = dset.MNIST(\"\", train=True, transform=transforms.ToTensor(), #train 용도\n",
    "                       target_transform=None, download=True)\n",
    "mnist_test = dset.MNIST(\"\", train=False, transform=transforms.ToTensor(), #test 용도\n",
    "                       target_transform=None, download=True)"
   ]
  },
  {
   "cell_type": "markdown",
   "id": "5a0b976d",
   "metadata": {},
   "source": [
    "### 2. 대략적인 데이터 형태"
   ]
  },
  {
   "cell_type": "code",
   "execution_count": 3,
   "id": "a8d3fe8b",
   "metadata": {},
   "outputs": [
    {
     "name": "stdout",
     "output_type": "stream",
     "text": [
      "mnist_train 길이:  60000\n",
      "mnist_test 길이:  10000\n",
      "image data shape:  torch.Size([1, 28, 28])\n",
      "label:  5\n"
     ]
    },
    {
     "data": {
      "image/png": "[encoded data removed]",
      "text/plain": [
       "<Figure size 432x288 with 1 Axes>"
      ]
     },
     "metadata": {
      "needs_background": "light"
     },
     "output_type": "display_data"
    }
   ],
   "source": [
    "print \"mnist_train 길이: \", len(mnist_train)\n",
    "print \"mnist_test 길이: \", len(mnist_test)\n",
    "\n",
    "# 데이터 하나의 형태\n",
    "image, label = mnist_train.__getitem__(0) # training set의 0번째 데이터\n",
    "print \"image data shape: \", image.size()\n",
    "print \"label: \", label\n",
    "\n",
    "# 그리기\n",
    "img = image.numpy() # image type을 그리기 위해 numpy로 변환 (1, 28, 28)\n",
    "plt.title(\"label: %d\" %label)\n",
    "plt.imshow(img[0], cmap = 'gray')\n",
    "plt.show()"
   ]
  },
  {
   "cell_type": "markdown",
   "id": "904ebb04",
   "metadata": {},
   "source": [
    "#### MNIST data 띄워보기"
   ]
  },
  {
   "cell_type": "code",
   "execution_count": 4,
   "id": "16208c7a",
   "metadata": {},
   "outputs": [
    {
     "name": "stdout",
     "output_type": "stream",
     "text": [
      "5\n",
      "torch.Size([1, 28, 28])\n",
      "5\n"
     ]
    },
    {
     "data": {
      "image/png": "[encoded data removed]",
      "text/plain": [
       "<Figure size 432x288 with 1 Axes>"
      ]
     },
     "metadata": {
      "needs_background": "light"
     },
     "output_type": "display_data"
    },
    {
     "name": "stdout",
     "output_type": "stream",
     "text": [
      "0\n"
     ]
    },
    {
     "data": {
      "image/png": "[encoded data removed]",
      "text/plain": [
       "<Figure size 432x288 with 1 Axes>"
      ]
     },
     "metadata": {
      "needs_background": "light"
     },
     "output_type": "display_data"
    },
    {
     "name": "stdout",
     "output_type": "stream",
     "text": [
      "4\n"
     ]
    },
    {
     "data": {
      "image/png": "[encoded data removed]",
      "text/plain": [
       "<Figure size 432x288 with 1 Axes>"
      ]
     },
     "metadata": {
      "needs_background": "light"
     },
     "output_type": "display_data"
    }
   ],
   "source": [
    "print(mnist_train[0][1]) #label\n",
    "print(mnist_train[0][0].size()) #image\n",
    "\n",
    "for i in range(3):\n",
    "    img=mnist_train[i][0].numpy()\n",
    "    print(mnist_train[i][1])\n",
    "    plt.imshow(img[0], cmap='gray')\n",
    "    plt.show()"
   ]
  },
  {
   "cell_type": "markdown",
   "id": "b109f056",
   "metadata": {},
   "source": [
    "#### convolution 하나 씌워보기"
   ]
  },
  {
   "cell_type": "code",
   "execution_count": 5,
   "id": "e964e22e",
   "metadata": {},
   "outputs": [
    {
     "name": "stdout",
     "output_type": "stream",
     "text": [
      "torch.Size([1, 1, 28, 28])\n",
      "5\n",
      "torch.Size([1, 3, 28, 28])\n"
     ]
    },
    {
     "data": {
      "image/png": "[encoded data removed]",
      "text/plain": [
       "<Figure size 432x288 with 1 Axes>"
      ]
     },
     "metadata": {
      "needs_background": "light"
     },
     "output_type": "display_data"
    },
    {
     "data": {
      "image/png": "[encoded data removed]",
      "text/plain": [
       "<Figure size 432x288 with 1 Axes>"
      ]
     },
     "metadata": {
      "needs_background": "light"
     },
     "output_type": "display_data"
    },
    {
     "data": {
      "image/png": "[encoded data removed]",
      "text/plain": [
       "<Figure size 432x288 with 1 Axes>"
      ]
     },
     "metadata": {
      "needs_background": "light"
     },
     "output_type": "display_data"
    }
   ],
   "source": [
    "# mnist의 첫 번째 이미지, 라벨 가져오기\n",
    "image, label = mnist_train[0]\n",
    "# view: tensor의 사이즈 조절, -1: 해당 차원 하나 확장\n",
    "# [1, 28, 28] -> [1, 1, 28, 28]\n",
    "image=image.view(-1, image.size()[0], image.size()[1], image.size()[2])\n",
    "print(image.size())\n",
    "\n",
    "print label\n",
    "\n",
    "# convolutional filter 정의\n",
    "conv_layer=nn.Conv2d(in_channels=1,out_channels=3, kernel_size=3, padding=1)\n",
    "# image에 filter 적용\n",
    "output=conv_layer(Variable(image))\n",
    "print(output.size())\n",
    "\n",
    "for i in range(3):\n",
    "    plt.imshow(output[0,i,:,:].data.numpy(), cmap='gray')\n",
    "    plt.show()"
   ]
  },
  {
   "cell_type": "markdown",
   "id": "5d45c08a",
   "metadata": {},
   "source": [
    "### 3. CNN 만들기\n",
    "\n",
    "#### train, test data 가져오기"
   ]
  },
  {
   "cell_type": "code",
   "execution_count": 6,
   "id": "d4c52c79",
   "metadata": {},
   "outputs": [],
   "source": [
    "batch_size = 16\n",
    "learning_rate = 0.0002\n",
    "num_epoch = 10"
   ]
  },
  {
   "cell_type": "code",
   "execution_count": 7,
   "id": "f7618f43",
   "metadata": {},
   "outputs": [],
   "source": [
    "train_loader = torch.utils.data.DataLoader(list(mnist_train)[:batch_size*100], # mnist_train을 학습시킨다.\n",
    "                                          batch_size=batch_size,\n",
    "                                          shuffle=True, num_workers=2,\n",
    "                                          drop_last=True) # batch_size만큼 나눌 때 나머지는 버린다.\n",
    "test_loader = torch.utils.data.DataLoader(mnist_test, batch_size=batch_size,\n",
    "                                          shuffle=False, num_workers=2, # 관습적으로 test data는 shuffle하지 않는다.\n",
    "                                          drop_last=True)"
   ]
  },
  {
   "cell_type": "markdown",
   "id": "14c66db8",
   "metadata": {},
   "source": [
    "#### CNN 클래스 만들기 (모델 만들기)"
   ]
  },
  {
   "cell_type": "markdown",
   "id": "395113e2",
   "metadata": {},
   "source": [
    "![alt text](ex5Model.jpg)"
   ]
  },
  {
   "cell_type": "code",
   "execution_count": 8,
   "id": "e24076fe",
   "metadata": {},
   "outputs": [],
   "source": [
    "class CNN(nn.Module): # nn.Module 상속받음\n",
    "    def __init__(self):\n",
    "        super(CNN, self).__init__() # 28 x 28\n",
    "        self.layer=nn.Sequential(\n",
    "            nn.Conv2d(1, 16, 5, padding=2),\n",
    "            nn.ReLU(),\n",
    "            \n",
    "            nn.Conv2d(16, 32, 5, padding=2), # 28 x 28\n",
    "            nn.ReLU(),\n",
    "            nn.MaxPool2d(2, 2), # 28 x 28 -> 14 x 14\n",
    "            \n",
    "            nn.Conv2d(32, 64, 5, padding=2), # 14 x 14\n",
    "            nn.ReLU(),\n",
    "            nn.MaxPool2d(2, 2), #14 x 14 -> 7 x 7\n",
    "        )\n",
    "        self.fc_layer=nn.Sequential(\n",
    "            nn.Linear(64*7*7, 100),\n",
    "            nn.ReLU(),\n",
    "            nn.Linear(100, 10)\n",
    "        )\n",
    "        \n",
    "    def forward(self, x):\n",
    "        out = self.layer(x)\n",
    "        out = out.view(batch_size, -1)\n",
    "        out = self.fc_layer(out)\n",
    "        return out\n",
    "        \n",
    "model = CNN()"
   ]
  },
  {
   "cell_type": "code",
   "execution_count": 9,
   "id": "f70e36d4",
   "metadata": {},
   "outputs": [
    {
     "name": "stdout",
     "output_type": "stream",
     "text": [
      "torch.Size([16, 1, 5, 5])\n",
      "torch.Size([16])\n",
      "torch.Size([32, 16, 5, 5])\n",
      "torch.Size([32])\n",
      "torch.Size([64, 32, 5, 5])\n",
      "torch.Size([64])\n",
      "torch.Size([100, 3136])\n",
      "torch.Size([100])\n",
      "torch.Size([10, 100])\n",
      "torch.Size([10])\n"
     ]
    }
   ],
   "source": [
    "# 파라미터 체크하기\n",
    "for parameter in model.parameters():\n",
    "    #print(parameter)\n",
    "    print(parameter.shape)"
   ]
  },
  {
   "cell_type": "code",
   "execution_count": 10,
   "id": "e1f05ebf",
   "metadata": {},
   "outputs": [],
   "source": [
    "# loss function, potimizer 선언\n",
    "loss_func = nn.CrossEntropyLoss()\n",
    "optimizer = torch.optim.Adam(model.parameters(), lr=learning_rate)"
   ]
  },
  {
   "cell_type": "markdown",
   "id": "787f2131",
   "metadata": {},
   "source": [
    "### 4. optimization"
   ]
  },
  {
   "cell_type": "code",
   "execution_count": 11,
   "id": "abbc213b",
   "metadata": {},
   "outputs": [
    {
     "name": "stdout",
     "output_type": "stream",
     "text": [
      "model restored\n"
     ]
    }
   ],
   "source": [
    "try:\n",
    "    #미리 학습시킨 네트워크의 파라미터 로드\n",
    "    model=torch.load('./nets/mycnn_model_10.pkl')\n",
    "    print('model restored')\n",
    "    m = True\n",
    "except:\n",
    "    print('model not restored')\n",
    "    m = False"
   ]
  },
  {
   "cell_type": "code",
   "execution_count": 12,
   "id": "21cf3575",
   "metadata": {},
   "outputs": [],
   "source": [
    "if not m:\n",
    "    epoch = widgets.IntProgress(min=0, max=num_epoch,description='epoch:') # instantiate the bar\n",
    "    display(epoch) # display the bar\n",
    "\n",
    "    for i in range(num_epoch): # num_epoch만큼 학습\n",
    "    \n",
    "        epoch.value += 1 # signal to increment the progress bar\n",
    "    \n",
    "        for j, [imgs, labels] in enumerate(train_loader):\n",
    "            x = Variable(imgs)\n",
    "            y_ = Variable(labels)\n",
    "        \n",
    "            # 이후부터 학습 부분\n",
    "            optimizer.zero_grad() # optimizer 안에서 이진 gradient들을 초기화\n",
    "            output = model(x)\n",
    "            loss = loss_func(output, y_)\n",
    "            loss.backward() # back prop.\n",
    "            optimizer.step() # parameter update\n",
    "        \n",
    "            if j%50==0:\n",
    "                print(\"epoch: %d, batch index: %d..\" %(i, j))\n",
    "                print loss"
   ]
  },
  {
   "cell_type": "markdown",
   "id": "94205ff1",
   "metadata": {},
   "source": [
    "### 5. 모델 저장"
   ]
  },
  {
   "cell_type": "code",
   "execution_count": 13,
   "id": "704218a4",
   "metadata": {},
   "outputs": [
    {
     "name": "stderr",
     "output_type": "stream",
     "text": [
      "/home/ec2-user/anaconda3/envs/pytorch_p27/lib/python2.7/site-packages/torch/serialization.py:360: UserWarning: Couldn't retrieve source code for container of type CNN. It won't be checked for correctness upon loading.\n",
      "  \"type \" + obj.__name__ + \". It won't be checked \"\n"
     ]
    }
   ],
   "source": [
    "netname = './nets/mycnn_model_%d.pkl'%(num_epoch)\n",
    "torch.save(model, netname)"
   ]
  },
  {
   "cell_type": "markdown",
   "id": "af04737e",
   "metadata": {},
   "source": [
    "### 6. Accuracy 계산"
   ]
  },
  {
   "cell_type": "code",
   "execution_count": 14,
   "id": "e845e420",
   "metadata": {},
   "outputs": [],
   "source": [
    "def ComputeAccr(dloader, imodel):\n",
    "    correct = 0\n",
    "    total = 0\n",
    "    \n",
    "    for j, [imgs, labels] in enumerate(dloader): # batch_size 만큼\n",
    "        img = Variable(imgs) # x\n",
    "        label = Variable(labels) # y\n",
    "        # label = Variable(labels)\n",
    "        \n",
    "        output = imodel.forward(img) # forward prop.\n",
    "        _, output_index = torch.max(output, 1)\n",
    "        \n",
    "        total += label.size(0)\n",
    "        correct += (output_index == label).sum().float()\n",
    "    print(\"Accuracy of Test Data: {}\".format(100*correct/total))"
   ]
  },
  {
   "cell_type": "code",
   "execution_count": 15,
   "id": "18c3afd0",
   "metadata": {},
   "outputs": [
    {
     "name": "stdout",
     "output_type": "stream",
     "text": [
      "Accuracy of Test Data: 94.6200027466\n"
     ]
    }
   ],
   "source": [
    "ComputeAccr(test_loader, model)"
   ]
  }
 ],
 "metadata": {
  "kernelspec": {
   "display_name": "conda_pytorch_p27",
   "language": "python",
   "name": "conda_pytorch_p27"
  },
  "language_info": {
   "codemirror_mode": {
    "name": "ipython",
    "version": 2
   },
   "file_extension": ".py",
   "mimetype": "text/x-python",
   "name": "python",
   "nbconvert_exporter": "python",
   "pygments_lexer": "ipython2",
   "version": "2.7.16"
  }
 },
 "nbformat": 4,
 "nbformat_minor": 5
}
